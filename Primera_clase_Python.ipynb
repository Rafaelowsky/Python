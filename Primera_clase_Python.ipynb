{
  "nbformat": 4,
  "nbformat_minor": 0,
  "metadata": {
    "colab": {
      "name": "Primera clase Python.ipynb",
      "provenance": [],
      "collapsed_sections": [],
      "authorship_tag": "ABX9TyNBgVVA8v4c+IG7kvAbLPLS",
      "include_colab_link": true
    },
    "kernelspec": {
      "name": "python3",
      "display_name": "Python 3"
    },
    "language_info": {
      "name": "python"
    }
  },
  "cells": [
    {
      "cell_type": "markdown",
      "metadata": {
        "id": "view-in-github",
        "colab_type": "text"
      },
      "source": [
        "<a href=\"https://colab.research.google.com/github/Rafaelowsky/Python/blob/main/Primera_clase_Python.ipynb\" target=\"_parent\"><img src=\"https://colab.research.google.com/assets/colab-badge.svg\" alt=\"Open In Colab\"/></a>"
      ]
    },
    {
      "cell_type": "markdown",
      "source": [
        "\n",
        "\n",
        "*   **Variables**\n",
        "\n",
        "\n",
        "\n"
      ],
      "metadata": {
        "id": "88sh_rjufsFq"
      }
    },
    {
      "cell_type": "code",
      "execution_count": null,
      "metadata": {
        "id": "bCC3wNtL4hGr"
      },
      "outputs": [],
      "source": [
        "mi_nombre = \"Rafael Zavala\""
      ]
    },
    {
      "cell_type": "code",
      "source": [
        "print(mi_nombre)"
      ],
      "metadata": {
        "colab": {
          "base_uri": "https://localhost:8080/"
        },
        "id": "-zphAQBD4rgJ",
        "outputId": "88796c35-0a89-4633-b588-366a7b9b16ce"
      },
      "execution_count": null,
      "outputs": [
        {
          "output_type": "stream",
          "name": "stdout",
          "text": [
            "Rafael Zavala\n"
          ]
        }
      ]
    },
    {
      "cell_type": "markdown",
      "source": [
        "**Print** = comando para mostrar la variable dada"
      ],
      "metadata": {
        "id": "UUTY3Fjy-SaL"
      }
    },
    {
      "cell_type": "code",
      "source": [
        "mi_edad = 21\n",
        "mi_altura = \"1.84\"\n",
        "mi_correo = \"rzavala.saldivar@gmail.com\""
      ],
      "metadata": {
        "id": "lkCaqoAY45i4"
      },
      "execution_count": null,
      "outputs": []
    },
    {
      "cell_type": "markdown",
      "source": [
        "Los datos de texto son entre comillas y los númericos solos"
      ],
      "metadata": {
        "id": "6sRbYVTK-Yhs"
      }
    },
    {
      "cell_type": "code",
      "source": [
        "print(mi_edad)"
      ],
      "metadata": {
        "colab": {
          "base_uri": "https://localhost:8080/"
        },
        "id": "dGnBoxnV5T7P",
        "outputId": "605f441b-bce5-4cda-99c9-104e52fa6844"
      },
      "execution_count": null,
      "outputs": [
        {
          "output_type": "stream",
          "name": "stdout",
          "text": [
            "21\n"
          ]
        }
      ]
    },
    {
      "cell_type": "code",
      "source": [
        "valor1 = 35\n",
        "valor2 = 10\n",
        "suma = valor1 + valor2"
      ],
      "metadata": {
        "id": "XBYvX9pM6E3_"
      },
      "execution_count": null,
      "outputs": []
    },
    {
      "cell_type": "code",
      "source": [
        "print(suma)"
      ],
      "metadata": {
        "colab": {
          "base_uri": "https://localhost:8080/"
        },
        "id": "rl4Lko2n6PbY",
        "outputId": "e7b1e2fd-3bf0-4a80-a1de-b28dc6b4ea8d"
      },
      "execution_count": null,
      "outputs": [
        {
          "output_type": "stream",
          "name": "stdout",
          "text": [
            "45\n"
          ]
        }
      ]
    },
    {
      "cell_type": "code",
      "source": [
        "resta = valor1 - valor2\n",
        "mult = valor1 * valor2\n",
        "division = valor1 / valor2"
      ],
      "metadata": {
        "id": "hpPSx6Sy6SXA"
      },
      "execution_count": null,
      "outputs": []
    },
    {
      "cell_type": "code",
      "source": [
        "print(resta)\n",
        "print(mult)\n",
        "print(division)"
      ],
      "metadata": {
        "colab": {
          "base_uri": "https://localhost:8080/"
        },
        "id": "5DdwsPEg6fC_",
        "outputId": "19ad8d40-a786-43e3-80a0-03f2e90e6a86"
      },
      "execution_count": null,
      "outputs": [
        {
          "output_type": "stream",
          "name": "stdout",
          "text": [
            "25\n",
            "350\n",
            "3.5\n"
          ]
        }
      ]
    },
    {
      "cell_type": "code",
      "source": [
        "print(f'Mi edad es de {mi_edad} años')"
      ],
      "metadata": {
        "colab": {
          "base_uri": "https://localhost:8080/"
        },
        "id": "HDt98MLp6r_n",
        "outputId": "a6928236-32bb-482b-8f44-ce575a939518"
      },
      "execution_count": null,
      "outputs": [
        {
          "output_type": "stream",
          "name": "stdout",
          "text": [
            "Mi edad es de 21 años\n"
          ]
        }
      ]
    },
    {
      "cell_type": "markdown",
      "source": [
        "Siempre que se quiere mostrar una variable en el print se pone un f y donde se quiera poner la variable se pone en el lugar unas {} y la variable"
      ],
      "metadata": {
        "id": "AI9D4900-kzz"
      }
    },
    {
      "cell_type": "code",
      "source": [
        "mi_ciudad = input(\"¿Donde vives?\")\n",
        "print(mi_ciudad)"
      ],
      "metadata": {
        "colab": {
          "base_uri": "https://localhost:8080/"
        },
        "id": "aVNJx4LG7lYv",
        "outputId": "d0b4efe6-f1d9-4706-bbf3-d03d853a8c9c"
      },
      "execution_count": null,
      "outputs": [
        {
          "output_type": "stream",
          "name": "stdout",
          "text": [
            "¿Donde vives?Atizapan xd\n",
            "Atizapan xd\n"
          ]
        }
      ]
    },
    {
      "cell_type": "code",
      "source": [
        "'20' * 3"
      ],
      "metadata": {
        "colab": {
          "base_uri": "https://localhost:8080/",
          "height": 35
        },
        "id": "dAm6qYbm8crM",
        "outputId": "8fd78d69-3913-4936-ee6a-128c516a6de9"
      },
      "execution_count": null,
      "outputs": [
        {
          "output_type": "execute_result",
          "data": {
            "application/vnd.google.colaboratory.intrinsic+json": {
              "type": "string"
            },
            "text/plain": [
              "'202020'"
            ]
          },
          "metadata": {},
          "execution_count": 30
        }
      ]
    },
    {
      "cell_type": "markdown",
      "source": [
        "Al ponerlo entre '' esto genera que se detecte como texto entonces el comando anterior solo multiplico el texto *3 no el número como tal"
      ],
      "metadata": {
        "id": "IgUx8fCn-xf7"
      }
    },
    {
      "cell_type": "code",
      "source": [
        "int('20') * 3"
      ],
      "metadata": {
        "colab": {
          "base_uri": "https://localhost:8080/"
        },
        "id": "UNaUB2aA9A4n",
        "outputId": "755c641e-4e95-418f-e23c-59cb8c4da343"
      },
      "execution_count": null,
      "outputs": [
        {
          "output_type": "execute_result",
          "data": {
            "text/plain": [
              "60"
            ]
          },
          "metadata": {},
          "execution_count": 31
        }
      ]
    },
    {
      "cell_type": "markdown",
      "source": [
        "Al utilizar el comando **int** este transforma el dato a númerico"
      ],
      "metadata": {
        "id": "zbvA7X9pgHfw"
      }
    },
    {
      "cell_type": "code",
      "source": [
        "int(input(\"Dame un número \")) *3"
      ],
      "metadata": {
        "colab": {
          "base_uri": "https://localhost:8080/"
        },
        "id": "5crtwfrq9DrP",
        "outputId": "c2a30a41-3e21-4387-d5ad-1e5755712029"
      },
      "execution_count": null,
      "outputs": [
        {
          "name": "stdout",
          "output_type": "stream",
          "text": [
            "Dame un número 3\n"
          ]
        },
        {
          "output_type": "execute_result",
          "data": {
            "text/plain": [
              "9"
            ]
          },
          "metadata": {},
          "execution_count": 33
        }
      ]
    },
    {
      "cell_type": "markdown",
      "source": [
        "El comando input sirve para recibir datos de tipo texto"
      ],
      "metadata": {
        "id": "YUJ7zORM9rKl"
      }
    },
    {
      "cell_type": "code",
      "source": [
        "valor1 = int(input(\"Dame un número \"))\n",
        "valor2 = int(input(\"Dame otro número \"))\n",
        "\n",
        "print (f\"La suma de {valor1} y {valor2} es {valor1 + valor2}\")"
      ],
      "metadata": {
        "colab": {
          "base_uri": "https://localhost:8080/"
        },
        "id": "HguTBqIE9YuA",
        "outputId": "f15748f6-ae98-472a-8519-0ae33eb3228b"
      },
      "execution_count": null,
      "outputs": [
        {
          "output_type": "stream",
          "name": "stdout",
          "text": [
            "Dame un número 1\n",
            "Dame otro número 2\n",
            "La suma de 1 y 2 es 3\n"
          ]
        }
      ]
    },
    {
      "cell_type": "markdown",
      "source": [
        "* **Condicionales:** \n",
        "\n",
        "\n",
        "\n"
      ],
      "metadata": {
        "id": "Ga6W5_PWEnNa"
      }
    },
    {
      "cell_type": "code",
      "source": [
        "8 > 12\n"
      ],
      "metadata": {
        "colab": {
          "base_uri": "https://localhost:8080/"
        },
        "id": "62ah8VJ_FB01",
        "outputId": "97b7fe28-8035-4630-f429-0856f4bf88b2"
      },
      "execution_count": null,
      "outputs": [
        {
          "output_type": "execute_result",
          "data": {
            "text/plain": [
              "False"
            ]
          },
          "metadata": {},
          "execution_count": 36
        }
      ]
    },
    {
      "cell_type": "code",
      "source": [
        "8 < 12"
      ],
      "metadata": {
        "colab": {
          "base_uri": "https://localhost:8080/"
        },
        "id": "Fkdetvw3FBav",
        "outputId": "a420fecc-a9ed-44ac-a624-75776d784c93"
      },
      "execution_count": null,
      "outputs": [
        {
          "output_type": "execute_result",
          "data": {
            "text/plain": [
              "True"
            ]
          },
          "metadata": {},
          "execution_count": 37
        }
      ]
    },
    {
      "cell_type": "code",
      "source": [
        "35 >= 42"
      ],
      "metadata": {
        "colab": {
          "base_uri": "https://localhost:8080/"
        },
        "id": "Ws7z4CF8FKHe",
        "outputId": "6d9d5ab9-cc94-437d-8d32-3eef4db29314"
      },
      "execution_count": null,
      "outputs": [
        {
          "output_type": "execute_result",
          "data": {
            "text/plain": [
              "False"
            ]
          },
          "metadata": {},
          "execution_count": 42
        }
      ]
    },
    {
      "cell_type": "code",
      "source": [
        "20 <= 15"
      ],
      "metadata": {
        "colab": {
          "base_uri": "https://localhost:8080/"
        },
        "id": "_xCvfwoLFhZG",
        "outputId": "c54821c5-3285-4054-e810-91665e0887b2"
      },
      "execution_count": null,
      "outputs": [
        {
          "output_type": "execute_result",
          "data": {
            "text/plain": [
              "False"
            ]
          },
          "metadata": {},
          "execution_count": 43
        }
      ]
    },
    {
      "cell_type": "code",
      "source": [
        "55 >= 54\n"
      ],
      "metadata": {
        "colab": {
          "base_uri": "https://localhost:8080/"
        },
        "id": "bN5x8Ad2Fi_2",
        "outputId": "b3616de5-584c-4bea-d167-67c5d714d12d"
      },
      "execution_count": null,
      "outputs": [
        {
          "output_type": "execute_result",
          "data": {
            "text/plain": [
              "True"
            ]
          },
          "metadata": {},
          "execution_count": 44
        }
      ]
    },
    {
      "cell_type": "code",
      "source": [
        "22 <= 22"
      ],
      "metadata": {
        "colab": {
          "base_uri": "https://localhost:8080/"
        },
        "id": "gjWUU1mGF1gW",
        "outputId": "45fea34b-5ef0-42a5-9a85-81091db29bf0"
      },
      "execution_count": null,
      "outputs": [
        {
          "output_type": "execute_result",
          "data": {
            "text/plain": [
              "True"
            ]
          },
          "metadata": {},
          "execution_count": 45
        }
      ]
    },
    {
      "cell_type": "code",
      "source": [
        "5 == 5"
      ],
      "metadata": {
        "colab": {
          "base_uri": "https://localhost:8080/"
        },
        "id": "iY_nEN_3F3uF",
        "outputId": "aa5a987b-2852-4d39-e2b2-946cd0d5ce29"
      },
      "execution_count": null,
      "outputs": [
        {
          "output_type": "execute_result",
          "data": {
            "text/plain": [
              "True"
            ]
          },
          "metadata": {},
          "execution_count": 46
        }
      ]
    },
    {
      "cell_type": "code",
      "source": [
        "if 1.84 > 1.20:\n",
        "  print(\"Puedes pasar\")\n",
        "else:\n",
        "  print(\"No puedes subir\")"
      ],
      "metadata": {
        "colab": {
          "base_uri": "https://localhost:8080/"
        },
        "id": "wlSyjxKnF5P9",
        "outputId": "c00b4f77-7c9a-4f9e-b86e-2b6aa89e3310"
      },
      "execution_count": null,
      "outputs": [
        {
          "output_type": "stream",
          "name": "stdout",
          "text": [
            "Puedes pasar\n"
          ]
        }
      ]
    },
    {
      "cell_type": "markdown",
      "source": [
        "**NOTA:**: las instrucciones despues del if y else tiene que haber una tabulación para que solo se ejecute las instrucciones dadas"
      ],
      "metadata": {
        "id": "HoRyMz7bHhJm"
      }
    },
    {
      "cell_type": "code",
      "source": [
        "num1 = 8\n",
        "num2 = 15\n",
        "if num1 > num2 :\n",
        "  print(\"el primero es el mayor\")\n",
        "else :\n",
        "  print(\"el segundo es el mayor\")\n"
      ],
      "metadata": {
        "colab": {
          "base_uri": "https://localhost:8080/"
        },
        "id": "UnYTHwiPHVe-",
        "outputId": "80f1334b-cdaf-4218-da7e-002b573ea65e"
      },
      "execution_count": null,
      "outputs": [
        {
          "output_type": "stream",
          "name": "stdout",
          "text": [
            "el segundo es el mayor\n"
          ]
        }
      ]
    },
    {
      "cell_type": "markdown",
      "source": [
        "**NOTA:** siempre poner dos puntos despues de if y else"
      ],
      "metadata": {
        "id": "HYR-mb2YJjWD"
      }
    },
    {
      "cell_type": "code",
      "source": [
        "num1 = 8\n",
        "num2 = 16\n",
        "\n",
        "if num1 > num2:\n",
        "  print(\"num1 es mayor que num2\")\n",
        "elif num2 > num1:\n",
        "  print(\"num2 es mayor que num1\")\n",
        "else:\n",
        "  print(\"Ambos numeros son iguales\")\n"
      ],
      "metadata": {
        "colab": {
          "base_uri": "https://localhost:8080/"
        },
        "id": "LloHW3qRJa2O",
        "outputId": "fb40147f-eec8-4515-f871-beeb62f41a54"
      },
      "execution_count": null,
      "outputs": [
        {
          "output_type": "stream",
          "name": "stdout",
          "text": [
            "num2 es mayor que num1\n"
          ]
        }
      ]
    }
  ]
}