{
  "nbformat": 4,
  "nbformat_minor": 0,
  "metadata": {
    "colab": {
      "name": "Reto 1.ipynb",
      "provenance": [],
      "collapsed_sections": [],
      "include_colab_link": true
    },
    "kernelspec": {
      "name": "python3",
      "display_name": "Python 3"
    },
    "language_info": {
      "name": "python"
    }
  },
  "cells": [
    {
      "cell_type": "markdown",
      "metadata": {
        "id": "view-in-github",
        "colab_type": "text"
      },
      "source": [
        "<a href=\"https://colab.research.google.com/github/Rafaelowsky/Python/blob/main/Reto_1.ipynb\" target=\"_parent\"><img src=\"https://colab.research.google.com/assets/colab-badge.svg\" alt=\"Open In Colab\"/></a>"
      ]
    },
    {
      "cell_type": "markdown",
      "metadata": {
        "id": "nCjE4hgyjNPT"
      },
      "source": [
        "# Reto 1:\n",
        "\n",
        "---\n",
        "\n"
      ]
    },
    {
      "cell_type": "markdown",
      "metadata": {
        "id": "DUu2A4GtjRV6"
      },
      "source": [
        "## Ejercicio 1: Variables"
      ]
    },
    {
      "cell_type": "markdown",
      "metadata": {
        "id": "0qc1n8-ukahY"
      },
      "source": [
        "Crea una variable llamada `titulo_libro` y asignale el libro que más te guste"
      ]
    },
    {
      "cell_type": "code",
      "metadata": {
        "id": "KJaYe7czkj6S"
      },
      "source": [
        "titulo_libro = \"Cazadores de microbios\""
      ],
      "execution_count": null,
      "outputs": []
    },
    {
      "cell_type": "markdown",
      "metadata": {
        "id": "sycdwGVhkMFA"
      },
      "source": [
        "Crea una variable llamada `numero_suerte` y asignale tu número de la suerte"
      ]
    },
    {
      "cell_type": "code",
      "metadata": {
        "id": "P32CXA2zipLd"
      },
      "source": [
        "numero_suerte = 7"
      ],
      "execution_count": null,
      "outputs": []
    },
    {
      "cell_type": "markdown",
      "metadata": {
        "id": "8eCYlApolazY"
      },
      "source": [
        "Crea una variable llamada `suma_edades` y coloca la suma de las edades de los integrantes de equipo y al final manda a imprimir la variable con `print()`"
      ]
    },
    {
      "cell_type": "code",
      "metadata": {
        "id": "I8s2uuELmSz2",
        "colab": {
          "base_uri": "https://localhost:8080/"
        },
        "outputId": "366fb5f2-a908-4089-81b4-afa031df4c5d"
      },
      "source": [
        "suma_edades = 18 + 21 + 18\n",
        "print(f\"La suma de las edades de Samuel, Rafael y Angel es de {suma_edades} años\")"
      ],
      "execution_count": 1,
      "outputs": [
        {
          "output_type": "stream",
          "name": "stdout",
          "text": [
            "La suma de las edades de Samuel, Rafael y Angel es de 57 años\n"
          ]
        }
      ]
    },
    {
      "cell_type": "markdown",
      "metadata": {
        "id": "q3ZgvxgbmuEO"
      },
      "source": [
        "## Ejercicio 2: Suma de variables"
      ]
    },
    {
      "cell_type": "markdown",
      "metadata": {
        "id": "154gcOAonErO"
      },
      "source": [
        "Escogan 3 números aleatorioamente entre 100 y 1000 en equipo y asignenlos a `valor1`, `valor2` y `valor2`"
      ]
    },
    {
      "cell_type": "code",
      "metadata": {
        "id": "08Hx8yB6n3WM"
      },
      "source": [
        "valor1 = 145\n",
        "valor2 = 174\n",
        "valor3 = 189"
      ],
      "execution_count": 2,
      "outputs": []
    },
    {
      "cell_type": "markdown",
      "metadata": {
        "id": "5nTdHJsUn58G"
      },
      "source": [
        "Ahora imprimir la suma de `valor1` con `valor3`"
      ]
    },
    {
      "cell_type": "code",
      "metadata": {
        "id": "cbti4yg7oFXZ",
        "colab": {
          "base_uri": "https://localhost:8080/"
        },
        "outputId": "78878196-704a-4a59-ada1-8681e66f1721"
      },
      "source": [
        "print(f\"La suma de {valor1} y {valor2} es {valor1 + valor2}\")"
      ],
      "execution_count": 3,
      "outputs": [
        {
          "output_type": "stream",
          "name": "stdout",
          "text": [
            "La suma de 145 y 174 es 319\n"
          ]
        }
      ]
    },
    {
      "cell_type": "markdown",
      "metadata": {
        "id": "RfaCkVzDoHbg"
      },
      "source": [
        "La resta de `valor2` menos `valor3`"
      ]
    },
    {
      "cell_type": "code",
      "metadata": {
        "id": "tk-NBtb7oOsQ",
        "colab": {
          "base_uri": "https://localhost:8080/"
        },
        "outputId": "f16551d5-c329-4698-908d-43bbbac584b0"
      },
      "source": [
        "print(f\"La resta de {valor2} y {valor3} es {valor2 - valor3}\")"
      ],
      "execution_count": 5,
      "outputs": [
        {
          "output_type": "stream",
          "name": "stdout",
          "text": [
            "La resta de 174 y 189 es -15\n"
          ]
        }
      ]
    },
    {
      "cell_type": "markdown",
      "metadata": {
        "id": "1Xa_RHhYoRZF"
      },
      "source": [
        "La multiplicación entre `valor1` y `valor2`"
      ]
    },
    {
      "cell_type": "code",
      "metadata": {
        "id": "YMFFApCjoX-A",
        "colab": {
          "base_uri": "https://localhost:8080/"
        },
        "outputId": "4f8f4bff-86de-4e34-da42-3eb1221fee35"
      },
      "source": [
        "print(f\"La multiplicación de {valor1} y {valor2} es {valor1 * valor2}\")"
      ],
      "execution_count": 6,
      "outputs": [
        {
          "output_type": "stream",
          "name": "stdout",
          "text": [
            "La multiplicación de 145 y 174 es 25230\n"
          ]
        }
      ]
    },
    {
      "cell_type": "markdown",
      "metadata": {
        "id": "rkLKuewFoeit"
      },
      "source": [
        "## Ejercicio 3: Format"
      ]
    },
    {
      "cell_type": "markdown",
      "metadata": {
        "id": "Do6iGYn7o-t2"
      },
      "source": [
        "Con la variable `suma_edades` que hiciste en el Ejercicio 1, deberas meterla en un print de tal manera que salga de esta manera el mensaje:\n",
        "\n",
        "**La suma de las edades de Juan, María y Pablo es de 45 años**\n",
        "\n",
        "Cambia los nombres, por los integrantes del equipo"
      ]
    },
    {
      "cell_type": "code",
      "metadata": {
        "id": "gQv9kyymov4z",
        "colab": {
          "base_uri": "https://localhost:8080/"
        },
        "outputId": "e0b94fe8-20cd-4aa7-9d20-042960f02be8"
      },
      "source": [
        "print(f\"La suma de las edades de Samuel, Rafael y Angel es de {suma_edades}\")"
      ],
      "execution_count": 7,
      "outputs": [
        {
          "output_type": "stream",
          "name": "stdout",
          "text": [
            "La suma de las edades de Samuel, Rafael y Angel es de 57\n"
          ]
        }
      ]
    },
    {
      "cell_type": "markdown",
      "metadata": {
        "id": "7YoThJ5wpjZG"
      },
      "source": [
        "Crea 3 varaibles, `ancho_terreno`, `largo_terrero` y `area_terreno`. \n",
        "\n",
        "Al ancho le asignaras 25 y al largo 30\n",
        "\n",
        "Sacaras el área con la formula Ancho x Alto y lo asiganaras a `area_terreno`.\n",
        "\n",
        "Imprime un mensaje en format que se vea de la siguiente manera, utilizando las variables\n",
        "\n",
        "**El área del terreno con un ancho de 25 mts y de largo 30 mts, es de: 750 mts cuadrados**"
      ]
    },
    {
      "cell_type": "code",
      "metadata": {
        "id": "xlbWfbbEvGMH",
        "colab": {
          "base_uri": "https://localhost:8080/"
        },
        "outputId": "511df777-3954-4c3f-fbb4-b5c585b213b2"
      },
      "source": [
        "ancho_terreno=25\n",
        "largo_terreno=30\n",
        "area_terreno= ancho_terreno*largo_terreno\n",
        "\n",
        "print(f\"El area del terreno con un ancho de 25 mts y de largo 30 mts, es de: {area_terreno} mts cuadrados\")"
      ],
      "execution_count": 8,
      "outputs": [
        {
          "output_type": "stream",
          "name": "stdout",
          "text": [
            "El area del terreno con un ancho de 25 mts y de largo 30 mts, es de: 750 mts cuadrados\n"
          ]
        }
      ]
    },
    {
      "cell_type": "markdown",
      "metadata": {
        "id": "my7VpwUcvp1K"
      },
      "source": [
        "## Ejercicio 4: Input"
      ]
    },
    {
      "cell_type": "markdown",
      "metadata": {
        "id": "mrZ0RxICwSsJ"
      },
      "source": [
        "Crea una variable llamada `nombre` donde le asiganaras un input que diga \"*Dame tu nombre*\".\n",
        "\n",
        "Crea una variable llamada `edad` donde le asignaras un input(dentro de un int) que diga \"*Dame tu edad*\".\n",
        "\n",
        "Manda a imprimir un format que diga:\n",
        "\n",
        "**\"Su nombre es: ____ y su edad es de ___ años\"**\n",
        "\n",
        "Todo en la misma celda"
      ]
    },
    {
      "cell_type": "code",
      "metadata": {
        "id": "hCICpOwAvruU",
        "colab": {
          "base_uri": "https://localhost:8080/"
        },
        "outputId": "6bd51107-5649-4dca-e2de-7c5497ec339c"
      },
      "source": [
        "nombre = input(\"Dame tu nombre \")\n",
        "edad = input(\"Dame tu edad \")\n",
        "print(f\"Su nombre es: {nombre} y su edad es de {edad}\")"
      ],
      "execution_count": 12,
      "outputs": [
        {
          "output_type": "stream",
          "name": "stdout",
          "text": [
            "Dame tu nombre Rafael\n",
            "Dame tu edad 21\n",
            "Su nombre es: Rafael y su edad es de 21\n"
          ]
        }
      ]
    },
    {
      "cell_type": "markdown",
      "metadata": {
        "id": "C5jtrBn7x5KE"
      },
      "source": [
        "## Extra Points"
      ]
    },
    {
      "cell_type": "markdown",
      "metadata": {
        "id": "J1CV99N7x7RB"
      },
      "source": [
        "Crea una variable llamada `total` y le asignaras un input númerico que diga \"*Dame un número*\".\n",
        "\n",
        "Crea una varaible llamada `porcentaje` y le asignaaras un input númerico que diga \"*¿Qué porcentaje quieres sacar*\"\n",
        "\n",
        "Crea una variable llamada `resultado` donde haras el calculo del porcentaje del número con las variables `total` y `porcentaje` \n",
        "\n",
        "Manda a imprimir un format que diga \n",
        "\n",
        "**El ___ % de ____ es de ____**\n",
        "\n",
        "Todo en una misma celda\n"
      ]
    },
    {
      "cell_type": "code",
      "metadata": {
        "id": "RXCty6A1x6VI",
        "colab": {
          "base_uri": "https://localhost:8080/"
        },
        "outputId": "2eeda780-e4ca-42eb-95db-a979328fdc35"
      },
      "source": [
        "total = int(input(\"Dame un número: \"))\n",
        "porcentaje = int(input(\"¿Que porcentaje quieres sacar?\"))\n",
        "resultado = total*(porcentaje/100)\n",
        "print(f\"El {porcentaje}% de {total} es de {resultado}\")"
      ],
      "execution_count": 22,
      "outputs": [
        {
          "output_type": "stream",
          "name": "stdout",
          "text": [
            "Dame un número: 250\n",
            "¿Que porcentaje quieres sacar?10\n",
            "El 10% de 250 es de 25.0\n"
          ]
        }
      ]
    },
    {
      "cell_type": "code",
      "source": [
        ""
      ],
      "metadata": {
        "id": "LDwSF0G8ojgC"
      },
      "execution_count": null,
      "outputs": []
    }
  ]
}